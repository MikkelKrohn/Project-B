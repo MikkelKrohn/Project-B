{
 "cells": [
  {
   "cell_type": "code",
   "execution_count": 1,
   "id": "eb5499d6",
   "metadata": {},
   "outputs": [],
   "source": [
    "from IPython.display import display, HTML\n"
   ]
  },
  {
   "cell_type": "markdown",
   "id": "bcf552b8",
   "metadata": {},
   "source": [
    "Unidentified flying objects. A highly controversial topic in the modern world. The term UFO in it self does not suggest anything extra terrestial. But the very nature of a flying object that we cannot define ourselves opens our minds to speculation. The modern western world attributed certain things to, especiallty, to the abbreviation UFO. When media uses the word, the recipiants ememdiately think of aliens. The very reason you are interested in this paper, is not because you wish to learn of explainable arial objects, but rather the fact that a seemingly scientific paper discusses the indication of aliens. \n",
    "        This paper aims to cater to your skeptic curoisity in regards to the sightings of UFOs. In the next paragraphs, you will be told a story. A data driven story about the UFO sightings, accompanied by interactive data visualizations and research that could explain whether the sightings actually were of extra terrestial nature or not. It is highly reccommended that you as the reader bring an open, but skeptical mind, hungry for exploration. \n",
    "<table border=\"0\">\n",
    " <tr>\n",
    "    <td><b style=\"font-size:30px\">The Data</b></td>\n",
    "    <td><b style=\"font-size:30px\">Title 2</b></td>\n",
    " </tr>\n",
    " <tr>\n",
    "    <td>As mentioned in the introductionary paragraph, this story is base on data. The dataset is issued by NUFORC (National UFO Reporting Center), an American non profit organization   It is not important to understand every detail. However, for you to understand the dimensions of the data, here are some core informations. There are registered UFO observations from the year 1906 and up to 2014. Only 5 countries are represented in the dataset, those being, USA, Great Britain, France, Germany and Australia. Every observation has some attributes to them. To name a few; Date of observation, time of day, location and description of UFO. The entire dataset has over 80.000 observations of UFOs. It is also important to understand that the observations are registered by ordinary people who happen to see a UFO, regardless of the person they are. If you wish to read more of the original data, please refer to this link https://github.com/planetsig/ufo-reports.\n",
    "        \n",
    "Let us get an overview of the data. How is it distributed over time? Below in figure 1, a simple histogram is shown with the distribution of observations over the years. You might notice that the earliest year in the plot is 1950, which is a long ways away from 1906, where the first observation is registered. But from before the year 1950, there is almost no observations registered. So for this plot alone, observations before 1950 has been removed in order to better identify the trend in the distribution. One may notice that in later years, observations has exploted in numbers. There is no better time than now, to see a UFO according to this distribution. This may be explainable as the ordinary person may not be able to identify various arial object such a sattelites, which has also rapidly increased in numbers as years went by. Why do you think we see this increase in UFO sightings?\n",
    "<img src=\"year_dist.png\" alt=\"Plot\">\n",
    "        Figure 1: A plot showing the number of UFO observations per year from 1950 to 2014. On the x axis, the years are found and on the y axis the amount of sightings is found. Main takeaway from this plot is that the number of observations are rapidly increasing as the years go by.\n",
    "        \n",
    "Next, the location of the sightings may prove to be interesting. As the dataset is from NUFORC, which is located in america, it becomes likely that most of the observations are located in America. And they most definetly are. Roughly 75% of the observations are located within the borders of the United States. But there may be more factors at play. America has a very interesting culture as far as aliens go. When searching up the most popular movies tagged with 'ufo' on imdb, at least the first 10 movies/shows are american productions set in America. When was the last time you saw a movie/show about aliens or UFO's, that was not set in America? \n",
    "        \n",
    "In order to keep the data exploration overseeable, we make a similar choice as Hollywood does when they make movies about UFOs or aliens. We focus on America and exclude the rest of the world. But America is still a very large place with surprisingly different 'cultures'. America has 52 states, with well defined borders and differnet, laws, education, population, accents and even culture. For non-Americans, each state could be viewed as an individual country. For the purpose of tangability, we will investigate the states independetly.  \n",
    "        \n",
    "California tops the list of most UFO's observed, with over double the UFO's seen by the next state down, which is Washington state. \n",
    "\n",
    "display(HTML('<h1>\"America_map.html\"</h1>'))\n",
    "https://en.wikipedia.org/wiki/List_of_U.S._states_and_territories_by_educational_attainment\n",
    "     </td>\n",
    "        \n",
    "       \n",
    "        \n",
    "    <td>  </td>\n",
    "     \n",
    " </tr>\n",
    "    \n",
    "</table>\n"
   ]
  },
  {
   "cell_type": "code",
   "execution_count": null,
   "id": "1c9d20bb",
   "metadata": {},
   "outputs": [],
   "source": []
  }
 ],
 "metadata": {
  "kernelspec": {
   "display_name": "Python 3 (ipykernel)",
   "language": "python",
   "name": "python3"
  },
  "language_info": {
   "codemirror_mode": {
    "name": "ipython",
    "version": 3
   },
   "file_extension": ".py",
   "mimetype": "text/x-python",
   "name": "python",
   "nbconvert_exporter": "python",
   "pygments_lexer": "ipython3",
   "version": "3.9.7"
  }
 },
 "nbformat": 4,
 "nbformat_minor": 5
}
